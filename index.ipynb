{
 "cells": [
  {
   "cell_type": "markdown",
   "metadata": {},
   "source": [
    "<center> <h1>Pokemon/Dictionary Warmup</h1> </center>"
   ]
  },
  {
   "cell_type": "markdown",
   "metadata": {},
   "source": [
    "![Pokeball](https://encrypted-tbn0.gstatic.com/images?q=tbn%3AANd9GcSvFguv_4hYhwny0d7KdBcFYHYCZ0j2uEBtr3aYmJHqNKecqEsi&usqp=CAU)"
   ]
  },
  {
   "cell_type": "markdown",
   "metadata": {},
   "source": [
    "Joél is currently playing the Pokemon Crystal video game. \n",
    "\n",
    "Joél takes pokemon very seriously so they have downloaded [The Complete Pokemon Dataset](https://www.kaggle.com/rounakbanik/pokemon) from Kaggle and they need some help organizing the data.\n",
    "\n",
    "Let's use our dictionary parsing skills to help Joél out!"
   ]
  },
  {
   "cell_type": "markdown",
   "metadata": {},
   "source": [
    "**In the cell below,** we import the Pokemon Dataset.\n",
    "\n",
    "*Don't worry about this code for now. Just run the cell ☺️*"
   ]
  },
  {
   "cell_type": "code",
   "execution_count": 1,
   "metadata": {
    "ExecuteTime": {
     "end_time": "2020-05-15T19:16:18.963697Z",
     "start_time": "2020-05-15T19:16:18.949590Z"
    }
   },
   "outputs": [],
   "source": [
    "import json\n",
    "import os\n",
    "\n",
    "path = os.path.join('data', 'pokemon.json')\n",
    "with open(path, 'r') as fp:\n",
    "    data = json.load(fp)"
   ]
  },
  {
   "cell_type": "markdown",
   "metadata": {},
   "source": [
    "Joél has caught the following pokemon.\n",
    "- Bayleef \n",
    "- Haunter\n",
    "- Poliwag\n",
    "- Pidgeotto\n",
    "- Kadabra\n",
    "\n",
    "In the cell below, we create a list called ```joels_pokemon_names``` containing each of his caught pokemon."
   ]
  },
  {
   "cell_type": "code",
   "execution_count": 23,
   "metadata": {
    "ExecuteTime": {
     "end_time": "2020-05-15T19:16:22.852607Z",
     "start_time": "2020-05-15T19:16:22.849975Z"
    }
   },
   "outputs": [],
   "source": [
    "joels_pokemon_names = ['Bayleef', 'Haunter', 'Poliwag', 'Pidgeotto', 'Kadabra']\n"
   ]
  },
  {
   "cell_type": "markdown",
   "metadata": {},
   "source": [
    "## Coding time:\n",
    "\n",
    "Let's create a new dictionary called ```joels_pokemon```. \n",
    "\n",
    "To do this, we will:\n",
    "1. Create an empty dictionary called ```joels_pokemon```\n",
    "2. Loop over the names in the ```joels_pokemon_names``` list\n",
    "3. Use the name to access the pokemon's information in the ```data``` dictionary\n",
    "4. Add the pokemon name to the ```joels_pokemon``` dictionary as a ```key``` and the pokemon's information as the key's ```value```"
   ]
  },
  {
   "cell_type": "code",
   "execution_count": 31,
   "metadata": {
    "ExecuteTime": {
     "end_time": "2020-05-05T21:32:38.815825Z",
     "start_time": "2020-05-05T21:32:38.812789Z"
    }
   },
   "outputs": [
    {
     "data": {
      "text/plain": [
       "True"
      ]
     },
     "execution_count": 31,
     "metadata": {},
     "output_type": "execute_result"
    }
   ],
   "source": [
    "# YOUR CODE HERE\n",
    "joels_pokemon2 = {k: v for k, v in data.items() if k in joels_pokemon_names}\n",
    "joels_pokemon2\n",
    "\n",
    "joels_pokemon1 = {}\n",
    "for name in joels_pokemon_names:\n",
    "    joels_pokemon1.update({name: data[name]})\n",
    "\n",
    "joels_pokemon1 == joels_pokemon2"
   ]
  },
  {
   "cell_type": "markdown",
   "metadata": {},
   "source": [
    "Run the cell below to see if you successfully made the joels_pokemon dictionary!"
   ]
  },
  {
   "cell_type": "code",
   "execution_count": 33,
   "metadata": {
    "ExecuteTime": {
     "end_time": "2020-05-15T19:17:12.594537Z",
     "start_time": "2020-05-15T19:17:12.590728Z"
    }
   },
   "outputs": [
    {
     "data": {
      "text/markdown": [
       "# ❌ Your dictionary passed 1 out of 2 tests!\n",
       "\n",
       ">✅ *Dictionary Keys are correct!*\n",
       "\n",
       ">❌ *Dictionary data are incorrect.*"
      ],
      "text/plain": [
       "<IPython.core.display.Markdown object>"
      ]
     },
     "metadata": {},
     "output_type": "display_data"
    }
   ],
   "source": [
    "from tests import CheckDictionary\n",
    "\n",
    "test = CheckDictionary(joels_pokemon2)\n",
    "test.run()"
   ]
  },
  {
   "cell_type": "markdown",
   "metadata": {},
   "source": [
    "![](https://gamepress.gg/pokemonmasters/sites/pokemonmasters/files/styles/300h/public/2019-08/pm0153_00_bayleaf_256.ktx.png?itok=Tr7OMsm1)"
   ]
  },
  {
   "cell_type": "markdown",
   "metadata": {
    "ExecuteTime": {
     "end_time": "2020-05-05T23:34:49.902943Z",
     "start_time": "2020-05-05T23:34:49.888252Z"
    }
   },
   "source": [
    "**Bayleef** is Joél's strongest pokemon. Let's create a list of all Pokemon that Bayleef is weak against.\n",
    "\n",
    "Our dictionary gives us the *Types* of pokemon Bayleef is weak to. Our dictionary also gives us the type for each pokemon. So first we have to figure out what types of pokemon Bayleef is weak to, then grab every pokemon that has that type.\n",
    "\n",
    "**Ok, here is how we will do it.**\n",
    "\n",
    "*Weakness* is measured with the ```weakness``` key in our data. If the weakness value = 2, that means the pokemon is extremely weak to that type of pokemon. \n",
    "\n",
    "To find all pokemon that Bayleef is weak to, we have to:\n",
    "1. Isolate Bayleef's weakness data from our dictionary\n",
    "2. Identify any type that has a weakness score of 2 and appending those types to a list called ```weakness_types```\n",
    "3. Loop over our entire dataset\n",
    "4. Identify pokemon who have a type that match the types in our ```weakness_types``` list.\n",
    "> **Hint** The type of each pokemon can be found in using the ```stats``` key\n",
    "5. Append the names of those pokemon to a list called ```bayleef_weakness```\n",
    "\n",
    "-----------------\n",
    "\n",
    "**Let's walk through steps 1 and 2.**\n",
    "\n",
    "You will code steps 3-5!"
   ]
  },
  {
   "cell_type": "markdown",
   "metadata": {},
   "source": [
    "**Step 1:** Isolate Bayleef's weakness data from our dictionary"
   ]
  },
  {
   "cell_type": "code",
   "execution_count": 40,
   "metadata": {
    "ExecuteTime": {
     "end_time": "2020-05-05T21:32:44.945095Z",
     "start_time": "2020-05-05T21:32:44.941280Z"
    }
   },
   "outputs": [
    {
     "data": {
      "text/plain": [
       "{'ice': 2.0, 'poison': 2.0, 'bug': 2.0, 'fire': 2.0, 'flying': 2.0}"
      ]
     },
     "execution_count": 40,
     "metadata": {},
     "output_type": "execute_result"
    }
   ],
   "source": [
    "bayleef_weakness_scores = data['Bayleef']['weakness']\n",
    "{k: v for k,v in bayleef_weakness_scores.items() if v == 2}"
   ]
  },
  {
   "cell_type": "markdown",
   "metadata": {},
   "source": [
    "**Step 2:** Identify any type that has a weakness score of 2 and appending those types to a list called ```weakness_types```\n",
    "\n",
    "\n",
    "We do this by:\n",
    "1. Creating an empty list\n",
    "2. Looping over the keys of our newly made dictionary```bayleef_weakness_score```.\n",
    "    - Each key is a pokemon type\n",
    "3. Checking if the score equals 2\n",
    "4. Appending the key to our empty list if the score equals 2"
   ]
  },
  {
   "cell_type": "code",
   "execution_count": 41,
   "metadata": {
    "ExecuteTime": {
     "end_time": "2020-05-05T22:10:51.195565Z",
     "start_time": "2020-05-05T22:10:51.175024Z"
    }
   },
   "outputs": [
    {
     "data": {
      "text/plain": [
       "['ice', 'poison', 'bug', 'fire', 'flying']"
      ]
     },
     "execution_count": 41,
     "metadata": {},
     "output_type": "execute_result"
    }
   ],
   "source": [
    "weakness_types = []\n",
    "\n",
    "for weakness in bayleef_weakness_scores.keys():\n",
    "    if bayleef_weakness_scores[weakness] == 2:\n",
    "        weakness_types.append(weakness)\n",
    "        \n",
    "weakness_types"
   ]
  },
  {
   "cell_type": "markdown",
   "metadata": {
    "ExecuteTime": {
     "end_time": "2020-05-05T21:32:45.465509Z",
     "start_time": "2020-05-05T21:32:45.462274Z"
    }
   },
   "source": [
    "Bayleef is weak to ice, poison, bug, fire, and flying pokemon. \n",
    "\n",
    "\n",
    "**Now your turn.** In the cell below, use the weakness_types list to identify pokemon that have one of those types, and append those pokemon to a list named ```bayleef_weakness```. \n",
    "\n",
    ">**Hint** The code will be very similar to the code for step 2.\n",
    "\n",
    ">**Hint** Make sure your list doesn't contain duplicates of the same pokemon!"
   ]
  },
  {
   "cell_type": "code",
   "execution_count": 82,
   "metadata": {},
   "outputs": [],
   "source": [
    "# Your Code Here\n",
    "bayleef_weakness = [k for k,v in data.items() if data[k]['stats']['type1'] in weakness_types] +[k for k,v in data.items() if data[k]['stats']['type2'] in weakness_types]\n",
    "bayleef_weakness = set(bayleef_weakness)\n"
   ]
  },
  {
   "cell_type": "markdown",
   "metadata": {},
   "source": [
    "Run the cell below to test your code! ⬇️"
   ]
  },
  {
   "cell_type": "code",
   "execution_count": 83,
   "metadata": {
    "ExecuteTime": {
     "end_time": "2020-05-05T22:12:56.476326Z",
     "start_time": "2020-05-05T22:12:56.470778Z"
    }
   },
   "outputs": [
    {
     "data": {
      "text/markdown": [
       "# Your list passed 2 out of 2 tests!\n",
       "\n",
       ">✅ *List length is correct!*\n",
       "\n",
       ">✅ *List data are correct*"
      ],
      "text/plain": [
       "<IPython.core.display.Markdown object>"
      ]
     },
     "metadata": {},
     "output_type": "display_data"
    }
   ],
   "source": [
    "from tests import ListCheck\n",
    "test = ListCheck(bayleef_weakness)\n",
    "test.run()"
   ]
  },
  {
   "cell_type": "code",
   "execution_count": null,
   "metadata": {},
   "outputs": [],
   "source": []
  }
 ],
 "metadata": {
  "hide_input": false,
  "kernelspec": {
   "display_name": "Python 3",
   "language": "python",
   "name": "python3"
  },
  "language_info": {
   "codemirror_mode": {
    "name": "ipython",
    "version": 3
   },
   "file_extension": ".py",
   "mimetype": "text/x-python",
   "name": "python",
   "nbconvert_exporter": "python",
   "pygments_lexer": "ipython3",
   "version": "3.6.9"
  },
  "toc": {
   "base_numbering": 1,
   "nav_menu": {},
   "number_sections": false,
   "sideBar": true,
   "skip_h1_title": true,
   "title_cell": "Table of Contents",
   "title_sidebar": "Contents",
   "toc_cell": false,
   "toc_position": {},
   "toc_section_display": true,
   "toc_window_display": false
  },
  "varInspector": {
   "cols": {
    "lenName": 16,
    "lenType": 16,
    "lenVar": 40
   },
   "kernels_config": {
    "python": {
     "delete_cmd_postfix": "",
     "delete_cmd_prefix": "del ",
     "library": "var_list.py",
     "varRefreshCmd": "print(var_dic_list())"
    },
    "r": {
     "delete_cmd_postfix": ") ",
     "delete_cmd_prefix": "rm(",
     "library": "var_list.r",
     "varRefreshCmd": "cat(var_dic_list()) "
    }
   },
   "types_to_exclude": [
    "module",
    "function",
    "builtin_function_or_method",
    "instance",
    "_Feature"
   ],
   "window_display": false
  }
 },
 "nbformat": 4,
 "nbformat_minor": 2
}
